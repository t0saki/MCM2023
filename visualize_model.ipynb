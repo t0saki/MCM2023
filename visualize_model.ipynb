{
 "cells": [
  {
   "cell_type": "code",
   "execution_count": 21,
   "metadata": {},
   "outputs": [
    {
     "name": "stderr",
     "output_type": "stream",
     "text": [
      "Some weights of the model checkpoint at roberta-base were not used when initializing RobertaModel: ['lm_head.decoder.weight', 'lm_head.dense.bias', 'lm_head.layer_norm.bias', 'lm_head.bias', 'lm_head.layer_norm.weight', 'lm_head.dense.weight']\n",
      "- This IS expected if you are initializing RobertaModel from the checkpoint of a model trained on another task or with another architecture (e.g. initializing a BertForSequenceClassification model from a BertForPreTraining model).\n",
      "- This IS NOT expected if you are initializing RobertaModel from the checkpoint of a model that you expect to be exactly identical (initializing a BertForSequenceClassification model from a BertForSequenceClassification model).\n"
     ]
    },
    {
     "data": {
      "text/plain": [
       "'custom_net_v2_num.png'"
      ]
     },
     "execution_count": 21,
     "metadata": {},
     "output_type": "execute_result"
    }
   ],
   "source": [
    "import torch\n",
    "from torchviz import make_dot\n",
    "from models.CustomNetV2num import CustomNetV2num\n",
    "\n",
    "# Initialize model with random input shapes\n",
    "model = CustomNetV2num('roberta-base', 5)\n",
    "\n",
    "# Create a sample input\n",
    "input_ids = torch.zeros((16, 5), dtype=torch.long)\n",
    "attention_mask = torch.zeros((16, 5), dtype=torch.long)\n",
    "input_numbers = torch.zeros((16, 1, 5), dtype=torch.float32)\n",
    "input_chars = torch.zeros((16, 1, 130), dtype=torch.float32)\n",
    "input_chars[0, 0, 0] = 1  # Set first character to 'a'\n",
    "\n",
    "# Get output of model\n",
    "output = model(input_ids, attention_mask, input_numbers, input_chars)\n",
    "\n",
    "# Generate visualization of model and save to file\n",
    "dot = make_dot(output, params=dict(model.named_parameters()))\n",
    "dot.render(filename='custom_net_v2_num', format='png')"
   ]
  },
  {
   "cell_type": "code",
   "execution_count": null,
   "metadata": {},
   "outputs": [],
   "source": []
  },
  {
   "cell_type": "code",
   "execution_count": null,
   "metadata": {},
   "outputs": [],
   "source": []
  }
 ],
 "metadata": {
  "kernelspec": {
   "display_name": "ml-aio",
   "language": "python",
   "name": "python3"
  },
  "language_info": {
   "codemirror_mode": {
    "name": "ipython",
    "version": 3
   },
   "file_extension": ".py",
   "mimetype": "text/x-python",
   "name": "python",
   "nbconvert_exporter": "python",
   "pygments_lexer": "ipython3",
   "version": "3.9.16"
  },
  "orig_nbformat": 4,
  "vscode": {
   "interpreter": {
    "hash": "ec23a97d99db22869c50b892264b6cc1a9cb976e0e30caade73d7ae1a16bff91"
   }
  }
 },
 "nbformat": 4,
 "nbformat_minor": 2
}
