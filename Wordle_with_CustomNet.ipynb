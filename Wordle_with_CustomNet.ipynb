{
 "cells": [
  {
   "cell_type": "code",
   "execution_count": null,
   "metadata": {},
   "outputs": [],
   "source": [
    "import torch\n",
    "import transformers\n",
    "from models.CustomNet import CustomNet"
   ]
  },
  {
   "cell_type": "code",
   "execution_count": null,
   "metadata": {},
   "outputs": [],
   "source": [
    "# Define the input data (a word and some numbers)\n",
    "input_word = \"example\"\n",
    "input_numbers = torch.tensor([[1.0, 2.0, 3.0]])\n",
    "\n",
    "# Define the RoBERTa model and tokenizer\n",
    "roberta_model_name = \"roberta-base\"\n",
    "tokenizer = transformers.RobertaTokenizer.from_pretrained(roberta_model_name)\n",
    "\n",
    "# Tokenize the input word using the RoBERTa tokenizer\n",
    "input_ids = tokenizer.encode(input_word, add_special_tokens=True, return_tensors='pt')\n",
    "attention_mask = torch.ones_like(input_ids)\n",
    "\n",
    "# Instantiate the CustomNet model\n",
    "num_numbers = input_numbers.shape[1]\n",
    "net = CustomNet(roberta_model_name, num_numbers)"
   ]
  },
  {
   "cell_type": "code",
   "execution_count": null,
   "metadata": {},
   "outputs": [
    {
     "ename": "",
     "evalue": "",
     "output_type": "error",
     "traceback": [
      "\u001b[1;31m在当前单元格或上一个单元格中执行代码时 Kernel 崩溃。请查看单元格中的代码，以确定故障的可能原因。有关详细信息，请单击 <a href='https://aka.ms/vscodeJupyterKernelCrash'>此处</a>。有关更多详细信息，请查看 Jupyter <a href='command:jupyter.viewOutput'>log</a>。"
     ]
    }
   ],
   "source": [
    "# Make a prediction with the model\n",
    "with torch.no_grad():\n",
    "    output = net(input_ids, attention_mask, input_numbers)\n",
    "\n",
    "# Convert the output probabilities to a list of values\n",
    "output_values = output.squeeze().tolist()\n",
    "\n",
    "# Print the output values\n",
    "print(output_values)"
   ]
  }
 ],
 "metadata": {
  "kernelspec": {
   "display_name": "ml-aio",
   "language": "python",
   "name": "python3"
  },
  "language_info": {
   "codemirror_mode": {
    "name": "ipython",
    "version": 3
   },
   "file_extension": ".py",
   "mimetype": "text/x-python",
   "name": "python",
   "nbconvert_exporter": "python",
   "pygments_lexer": "ipython3",
   "version": "3.9.16"
  },
  "orig_nbformat": 4,
  "vscode": {
   "interpreter": {
    "hash": "ec23a97d99db22869c50b892264b6cc1a9cb976e0e30caade73d7ae1a16bff91"
   }
  }
 },
 "nbformat": 4,
 "nbformat_minor": 2
}
