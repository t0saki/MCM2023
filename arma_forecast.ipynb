{
 "cells": [
  {
   "cell_type": "code",
   "execution_count": 351,
   "metadata": {},
   "outputs": [],
   "source": [
    "import pandas as pd\n",
    "from statsmodels.tsa.arima.model import ARIMA\n",
    "import numpy as np"
   ]
  },
  {
   "cell_type": "code",
   "execution_count": 352,
   "metadata": {},
   "outputs": [],
   "source": [
    "# 从 csv 文件中读取数据\n",
    "data = pd.read_csv('Combined.csv', index_col='Date', parse_dates=True)\n",
    "data = data.dropna()  # 删除缺失值"
   ]
  },
  {
   "cell_type": "code",
   "execution_count": 353,
   "metadata": {},
   "outputs": [
    {
     "name": "stderr",
     "output_type": "stream",
     "text": [
      "/home/tosaki/miniconda3/envs/ml-aio/lib/python3.9/site-packages/statsmodels/tsa/base/tsa_model.py:471: ValueWarning: A date index has been provided, but it has no associated frequency information and so will be ignored when e.g. forecasting.\n",
      "  self._init_dates(dates, freq)\n",
      "/home/tosaki/miniconda3/envs/ml-aio/lib/python3.9/site-packages/statsmodels/tsa/base/tsa_model.py:471: ValueWarning: A date index has been provided, but it has no associated frequency information and so will be ignored when e.g. forecasting.\n",
      "  self._init_dates(dates, freq)\n",
      "/home/tosaki/miniconda3/envs/ml-aio/lib/python3.9/site-packages/statsmodels/tsa/base/tsa_model.py:471: ValueWarning: A date index has been provided, but it has no associated frequency information and so will be ignored when e.g. forecasting.\n",
      "  self._init_dates(dates, freq)\n",
      "/home/tosaki/miniconda3/envs/ml-aio/lib/python3.9/site-packages/statsmodels/tsa/base/tsa_model.py:471: ValueWarning: A date index has been provided, but it has no associated frequency information and so will be ignored when e.g. forecasting.\n",
      "  self._init_dates(dates, freq)\n",
      "/home/tosaki/miniconda3/envs/ml-aio/lib/python3.9/site-packages/statsmodels/tsa/base/tsa_model.py:471: ValueWarning: A date index has been provided, but it has no associated frequency information and so will be ignored when e.g. forecasting.\n",
      "  self._init_dates(dates, freq)\n",
      "/home/tosaki/miniconda3/envs/ml-aio/lib/python3.9/site-packages/statsmodels/tsa/base/tsa_model.py:471: ValueWarning: A date index has been provided, but it has no associated frequency information and so will be ignored when e.g. forecasting.\n",
      "  self._init_dates(dates, freq)\n"
     ]
    }
   ],
   "source": [
    "# 建立 ARMA 模型，使用训练数据训练模型\n",
    "model1 = ARIMA(data[\"Number of reported results\"], order=(2, 1, 2))\n",
    "model1_fit = model1.fit()\n",
    "\n",
    "model2 = ARIMA(data[\"Number in hard mode\"], order=(2, 1, 2))\n",
    "model2_fit = model2.fit()"
   ]
  },
  {
   "cell_type": "code",
   "execution_count": 354,
   "metadata": {},
   "outputs": [],
   "source": [
    "# 指定日期\n",
    "specified_date = pd.to_datetime(\"2022-12-31\")\n",
    "\n",
    "# # 建立 ARMA 模型，使用训练数据训练模型\n",
    "# model1 = ARIMA(data[\"Number of reported results\"], order=(2, 1, 2))\n",
    "# model1_fit = model1.fit()\n",
    "\n",
    "# # 预测指定日期的日活\n",
    "# forecast_specified1 = model1_fit.forecast(steps=(specified_date - data.index[-1]).days)# [0][-1]\n",
    "# # forecast_specified2 = model2_fit.forecast(steps=(specified_date - data.index[-1]).days)# [0][-1]\n",
    "\n",
    "\n",
    "# print(forecast_specified1.shape)\n",
    "\n",
    "# #print the last one\n",
    "# print(f\"Number of reported results: {forecast_specified1}\")"
   ]
  },
  {
   "cell_type": "code",
   "execution_count": 355,
   "metadata": {},
   "outputs": [
    {
     "name": "stderr",
     "output_type": "stream",
     "text": [
      "/home/tosaki/miniconda3/envs/ml-aio/lib/python3.9/site-packages/statsmodels/tsa/base/tsa_model.py:471: ValueWarning: No frequency information was provided, so inferred frequency -1D will be used.\n",
      "  self._init_dates(dates, freq)\n",
      "/home/tosaki/miniconda3/envs/ml-aio/lib/python3.9/site-packages/statsmodels/tsa/base/tsa_model.py:471: ValueWarning: A date index has been provided, but it is not monotonic and so will be ignored when e.g. forecasting.\n",
      "  self._init_dates(dates, freq)\n",
      "/home/tosaki/miniconda3/envs/ml-aio/lib/python3.9/site-packages/statsmodels/tsa/base/tsa_model.py:471: ValueWarning: No frequency information was provided, so inferred frequency -1D will be used.\n",
      "  self._init_dates(dates, freq)\n",
      "/home/tosaki/miniconda3/envs/ml-aio/lib/python3.9/site-packages/statsmodels/tsa/base/tsa_model.py:471: ValueWarning: A date index has been provided, but it is not monotonic and so will be ignored when e.g. forecasting.\n",
      "  self._init_dates(dates, freq)\n",
      "/home/tosaki/miniconda3/envs/ml-aio/lib/python3.9/site-packages/statsmodels/tsa/base/tsa_model.py:471: ValueWarning: No frequency information was provided, so inferred frequency -1D will be used.\n",
      "  self._init_dates(dates, freq)\n",
      "/home/tosaki/miniconda3/envs/ml-aio/lib/python3.9/site-packages/statsmodels/tsa/base/tsa_model.py:471: ValueWarning: A date index has been provided, but it is not monotonic and so will be ignored when e.g. forecasting.\n",
      "  self._init_dates(dates, freq)\n",
      "/home/tosaki/miniconda3/envs/ml-aio/lib/python3.9/site-packages/statsmodels/tsa/base/tsa_model.py:834: ValueWarning: No supported index is available. Prediction results will be given with an integer index beginning at `start`.\n",
      "  return get_prediction_index(\n"
     ]
    }
   ],
   "source": [
    "# Predict from 2022-10-31 to 2022-12-31\n",
    "start_date = pd.to_datetime(\"2022-01-07\")\n",
    "mid_date = pd.to_datetime(\"2022-10-31\")\n",
    "end_date = pd.to_datetime(\"2022-12-31\")\n",
    "\n",
    "# 从 csv 文件中读取数据\n",
    "data = pd.read_csv('Data_V1.3.csv', index_col='Date', parse_dates=True)\n",
    "data = data.dropna()  # 删除缺失值\n",
    "\n",
    "data_train = data[:len(data) - (end_date - mid_date).days]\n",
    "data_test = data[len(data) - (end_date - mid_date).days:]\n",
    "\n",
    "# 建立 ARMA 模型，使用训练数据训练模型\n",
    "model1 = ARIMA(data_train[\"Number of reported results\"], order=(4, 1, 2))\n",
    "model1_fit = model1.fit()\n",
    "\n",
    "\n",
    "# forecast1 = model1_fit.predict(start=start_date, end=mid_date)\n",
    "forecast1_future = model1_fit.forecast(steps=(end_date - mid_date).days)\n",
    "\n",
    "\n",
    "# Save to specified_from300.csv\n",
    "forecast1_future.to_csv('specified_from300.csv', index=True)\n",
    "\n",
    "# Save the prediction to csv\n",
    "# forecast1.to_csv('forecast1.csv', index=True)\n",
    "# forecast1_future.to_csv('forecast1_future.csv', index=True)"
   ]
  },
  {
   "cell_type": "code",
   "execution_count": 356,
   "metadata": {},
   "outputs": [
    {
     "name": "stdout",
     "output_type": "stream",
     "text": [
      "50% confidence interval: 11050.9420 to 29878.6628\n",
      "80% confidence interval: 8169.1479 to 32760.4568\n",
      "95% confidence interval: 1637.0815 to 39292.5233\n"
     ]
    }
   ],
   "source": [
    "# remove index of forecast1_future column 'predicted_mean'\n",
    "forecast1_future = forecast1_future.reset_index(drop=True)\n",
    "\n",
    "# Get residuals between forecast1_future and data_test\n",
    "residuals = []\n",
    "for i in range(len(forecast1_future)):\n",
    "    forecast = forecast1_future[i]\n",
    "    actual = data_test['Number of reported results'][i].item()\n",
    "    residuals.append(forecast - actual)\n",
    "\n",
    "# Build normal distribution with mean and std of residuals\n",
    "mean = np.mean(residuals)\n",
    "std = np.std(residuals)\n",
    "std = 9605.98003713989\n",
    "\n",
    "# Get future confidence bound of probability 0.95, 1.96 * std\n",
    "confidence = []\n",
    "upper_bound = []\n",
    "lower_bound = []\n",
    "\n",
    "bound_50 = 0.98 * std\n",
    "bound_80 = 1.28 * std\n",
    "bound_95 = 1.96 * std\n",
    "\n",
    "mean = 20464.802395028866\n",
    "\n",
    "# print bounds\n",
    "print(f\"50% confidence interval: {mean - bound_50:.4f} to {mean + bound_50:.4f}\\n80% confidence interval: {mean - bound_80:.4f} to {mean + bound_80:.4f}\\n95% confidence interval: {mean - bound_95:.4f} to {mean + bound_95:.4f}\")"
   ]
  },
  {
   "cell_type": "code",
   "execution_count": 357,
   "metadata": {},
   "outputs": [
    {
     "name": "stderr",
     "output_type": "stream",
     "text": [
      "/home/tosaki/miniconda3/envs/ml-aio/lib/python3.9/site-packages/statsmodels/tsa/base/tsa_model.py:471: ValueWarning: A date index has been provided, but it has no associated frequency information and so will be ignored when e.g. forecasting.\n",
      "  self._init_dates(dates, freq)\n",
      "/home/tosaki/miniconda3/envs/ml-aio/lib/python3.9/site-packages/statsmodels/tsa/base/tsa_model.py:471: ValueWarning: A date index has been provided, but it has no associated frequency information and so will be ignored when e.g. forecasting.\n",
      "  self._init_dates(dates, freq)\n",
      "/home/tosaki/miniconda3/envs/ml-aio/lib/python3.9/site-packages/statsmodels/tsa/base/tsa_model.py:471: ValueWarning: A date index has been provided, but it has no associated frequency information and so will be ignored when e.g. forecasting.\n",
      "  self._init_dates(dates, freq)\n"
     ]
    },
    {
     "ename": "ValueError",
     "evalue": "Prediction must have `end` after `start`.",
     "output_type": "error",
     "traceback": [
      "\u001b[0;31m---------------------------------------------------------------------------\u001b[0m",
      "\u001b[0;31mValueError\u001b[0m                                Traceback (most recent call last)",
      "Cell \u001b[0;32mIn[357], line 15\u001b[0m\n\u001b[1;32m     11\u001b[0m \u001b[39m# 预测未来 91 天的数据\u001b[39;00m\n\u001b[1;32m     13\u001b[0m steps\u001b[39m=\u001b[39m(specified_date \u001b[39m-\u001b[39m data\u001b[39m.\u001b[39mindex[\u001b[39m-\u001b[39m\u001b[39m1\u001b[39m])\u001b[39m.\u001b[39mdays\n\u001b[0;32m---> 15\u001b[0m returnv \u001b[39m=\u001b[39m results\u001b[39m.\u001b[39;49mforecast(steps\u001b[39m=\u001b[39;49msteps, alpha\u001b[39m=\u001b[39;49m\u001b[39m0.5\u001b[39;49m)\n\u001b[1;32m     16\u001b[0m \u001b[39mprint\u001b[39m (returnv)\n\u001b[1;32m     17\u001b[0m \u001b[39mprint\u001b[39m(returnv\u001b[39m.\u001b[39mshape)\n",
      "File \u001b[0;32m~/miniconda3/envs/ml-aio/lib/python3.9/site-packages/statsmodels/base/wrapper.py:113\u001b[0m, in \u001b[0;36mmake_wrapper.<locals>.wrapper\u001b[0;34m(self, *args, **kwargs)\u001b[0m\n\u001b[1;32m    111\u001b[0m     obj \u001b[39m=\u001b[39m data\u001b[39m.\u001b[39mwrap_output(func(results, \u001b[39m*\u001b[39margs, \u001b[39m*\u001b[39m\u001b[39m*\u001b[39mkwargs), how[\u001b[39m0\u001b[39m], how[\u001b[39m1\u001b[39m:])\n\u001b[1;32m    112\u001b[0m \u001b[39melif\u001b[39;00m how:\n\u001b[0;32m--> 113\u001b[0m     obj \u001b[39m=\u001b[39m data\u001b[39m.\u001b[39mwrap_output(func(results, \u001b[39m*\u001b[39;49margs, \u001b[39m*\u001b[39;49m\u001b[39m*\u001b[39;49mkwargs), how)\n\u001b[1;32m    114\u001b[0m \u001b[39mreturn\u001b[39;00m obj\n",
      "File \u001b[0;32m~/miniconda3/envs/ml-aio/lib/python3.9/site-packages/statsmodels/tsa/statespace/mlemodel.py:3442\u001b[0m, in \u001b[0;36mMLEResults.forecast\u001b[0;34m(self, steps, **kwargs)\u001b[0m\n\u001b[1;32m   3440\u001b[0m \u001b[39melse\u001b[39;00m:\n\u001b[1;32m   3441\u001b[0m     end \u001b[39m=\u001b[39m steps\n\u001b[0;32m-> 3442\u001b[0m \u001b[39mreturn\u001b[39;00m \u001b[39mself\u001b[39;49m\u001b[39m.\u001b[39;49mpredict(start\u001b[39m=\u001b[39;49m\u001b[39mself\u001b[39;49m\u001b[39m.\u001b[39;49mnobs, end\u001b[39m=\u001b[39;49mend, \u001b[39m*\u001b[39;49m\u001b[39m*\u001b[39;49mkwargs)\n",
      "File \u001b[0;32m~/miniconda3/envs/ml-aio/lib/python3.9/site-packages/statsmodels/tsa/statespace/mlemodel.py:3403\u001b[0m, in \u001b[0;36mMLEResults.predict\u001b[0;34m(self, start, end, dynamic, **kwargs)\u001b[0m\n\u001b[1;32m   3357\u001b[0m \u001b[39m\"\"\"\u001b[39;00m\n\u001b[1;32m   3358\u001b[0m \u001b[39mIn-sample prediction and out-of-sample forecasting\u001b[39;00m\n\u001b[1;32m   3359\u001b[0m \n\u001b[0;32m   (...)\u001b[0m\n\u001b[1;32m   3400\u001b[0m \u001b[39m    including confidence intervals.\u001b[39;00m\n\u001b[1;32m   3401\u001b[0m \u001b[39m\"\"\"\u001b[39;00m\n\u001b[1;32m   3402\u001b[0m \u001b[39m# Perform the prediction\u001b[39;00m\n\u001b[0;32m-> 3403\u001b[0m prediction_results \u001b[39m=\u001b[39m \u001b[39mself\u001b[39;49m\u001b[39m.\u001b[39;49mget_prediction(start, end, dynamic, \u001b[39m*\u001b[39;49m\u001b[39m*\u001b[39;49mkwargs)\n\u001b[1;32m   3404\u001b[0m \u001b[39mreturn\u001b[39;00m prediction_results\u001b[39m.\u001b[39mpredicted_mean\n",
      "File \u001b[0;32m~/miniconda3/envs/ml-aio/lib/python3.9/site-packages/statsmodels/tsa/statespace/mlemodel.py:3287\u001b[0m, in \u001b[0;36mMLEResults.get_prediction\u001b[0;34m(self, start, end, dynamic, index, exog, extend_model, extend_kwargs, **kwargs)\u001b[0m\n\u001b[1;32m   3283\u001b[0m     start \u001b[39m=\u001b[39m \u001b[39m0\u001b[39m\n\u001b[1;32m   3285\u001b[0m \u001b[39m# Handle start, end, dynamic\u001b[39;00m\n\u001b[1;32m   3286\u001b[0m start, end, out_of_sample, prediction_index \u001b[39m=\u001b[39m (\n\u001b[0;32m-> 3287\u001b[0m     \u001b[39mself\u001b[39;49m\u001b[39m.\u001b[39;49mmodel\u001b[39m.\u001b[39;49m_get_prediction_index(start, end, index))\n\u001b[1;32m   3289\u001b[0m \u001b[39m# Handle `dynamic`\u001b[39;00m\n\u001b[1;32m   3290\u001b[0m \u001b[39mif\u001b[39;00m \u001b[39misinstance\u001b[39m(dynamic, (\u001b[39mstr\u001b[39m, dt\u001b[39m.\u001b[39mdatetime, pd\u001b[39m.\u001b[39mTimestamp)):\n",
      "File \u001b[0;32m~/miniconda3/envs/ml-aio/lib/python3.9/site-packages/statsmodels/tsa/base/tsa_model.py:834\u001b[0m, in \u001b[0;36mTimeSeriesModel._get_prediction_index\u001b[0;34m(self, start, end, index, silent)\u001b[0m\n\u001b[1;32m    778\u001b[0m \u001b[39m\"\"\"\u001b[39;00m\n\u001b[1;32m    779\u001b[0m \u001b[39mGet the location of a specific key in an index or model row labels\u001b[39;00m\n\u001b[1;32m    780\u001b[0m \n\u001b[0;32m   (...)\u001b[0m\n\u001b[1;32m    831\u001b[0m \u001b[39msince we have required them to be full indexes, there is no ambiguity).\u001b[39;00m\n\u001b[1;32m    832\u001b[0m \u001b[39m\"\"\"\u001b[39;00m\n\u001b[1;32m    833\u001b[0m nobs \u001b[39m=\u001b[39m \u001b[39mlen\u001b[39m(\u001b[39mself\u001b[39m\u001b[39m.\u001b[39mendog)\n\u001b[0;32m--> 834\u001b[0m \u001b[39mreturn\u001b[39;00m get_prediction_index(\n\u001b[1;32m    835\u001b[0m     start,\n\u001b[1;32m    836\u001b[0m     end,\n\u001b[1;32m    837\u001b[0m     nobs,\n\u001b[1;32m    838\u001b[0m     base_index\u001b[39m=\u001b[39;49m\u001b[39mself\u001b[39;49m\u001b[39m.\u001b[39;49m_index,\n\u001b[1;32m    839\u001b[0m     index\u001b[39m=\u001b[39;49mindex,\n\u001b[1;32m    840\u001b[0m     silent\u001b[39m=\u001b[39;49msilent,\n\u001b[1;32m    841\u001b[0m     index_none\u001b[39m=\u001b[39;49m\u001b[39mself\u001b[39;49m\u001b[39m.\u001b[39;49m_index_none,\n\u001b[1;32m    842\u001b[0m     index_generated\u001b[39m=\u001b[39;49m\u001b[39mself\u001b[39;49m\u001b[39m.\u001b[39;49m_index_generated,\n\u001b[1;32m    843\u001b[0m     data\u001b[39m=\u001b[39;49m\u001b[39mself\u001b[39;49m\u001b[39m.\u001b[39;49mdata,\n\u001b[1;32m    844\u001b[0m )\n",
      "File \u001b[0;32m~/miniconda3/envs/ml-aio/lib/python3.9/site-packages/statsmodels/tsa/base/tsa_model.py:387\u001b[0m, in \u001b[0;36mget_prediction_index\u001b[0;34m(start, end, nobs, base_index, index, silent, index_none, index_generated, data)\u001b[0m\n\u001b[1;32m    385\u001b[0m \u001b[39m# Validate prediction options\u001b[39;00m\n\u001b[1;32m    386\u001b[0m \u001b[39mif\u001b[39;00m end \u001b[39m<\u001b[39m start:\n\u001b[0;32m--> 387\u001b[0m     \u001b[39mraise\u001b[39;00m \u001b[39mValueError\u001b[39;00m(\u001b[39m\"\u001b[39m\u001b[39mPrediction must have `end` after `start`.\u001b[39m\u001b[39m\"\u001b[39m)\n\u001b[1;32m    389\u001b[0m \u001b[39m# Handle custom prediction index\u001b[39;00m\n\u001b[1;32m    390\u001b[0m \u001b[39m# First, if we were given an index, check that it's the right size and\u001b[39;00m\n\u001b[1;32m    391\u001b[0m \u001b[39m# use it if so\u001b[39;00m\n\u001b[1;32m    392\u001b[0m \u001b[39mif\u001b[39;00m index \u001b[39mis\u001b[39;00m \u001b[39mnot\u001b[39;00m \u001b[39mNone\u001b[39;00m:\n",
      "\u001b[0;31mValueError\u001b[0m: Prediction must have `end` after `start`."
     ]
    }
   ],
   "source": [
    "import numpy as np\n",
    "import statsmodels.api as sm\n",
    "\n",
    "# 加载数据\n",
    "data = pd.read_csv('Combined.csv', parse_dates=True, index_col='Date')\n",
    "\n",
    "# 拟合 ARIMA 模型\n",
    "model = sm.tsa.ARIMA(data[\"Number of reported results\"], order=(1,1,1))\n",
    "results = model.fit()\n",
    "\n",
    "# 预测未来 91 天的数据\n",
    "\n",
    "steps=(specified_date - data.index[-1]).days\n",
    "\n",
    "returnv = results.forecast(steps=steps, alpha=0.5)\n",
    "print (returnv)\n",
    "print(returnv.shape)\n",
    "forecast = results.forecast(steps=steps, alpha=0.5)\n",
    "std_err = results.bse\n",
    "conf_int = results.conf_int(alpha=0.5)\n",
    "\n",
    "# 打印预测值\n",
    "print('预测值为：', forecast[-1])\n",
    "# 打印标准误差\n",
    "print('标准误差为：', std_err[-1])\n",
    "\n",
    "\n",
    "\n",
    "# 打印置信区间\n",
    "print('50%置信区间的下限值为：', lower_bound[-1])\n",
    "print('50%置信区间的上限值为：', upper_bound[-1])"
   ]
  },
  {
   "cell_type": "code",
   "execution_count": null,
   "metadata": {},
   "outputs": [],
   "source": [
    "# 计算置信区间\n",
    "lower_bound = np.percentile(simulations, 2.5, axis=0)\n",
    "upper_bound = np.percentile(simulations, 97.5, axis=0)\n",
    "\n",
    "# 打印置信区间\n",
    "print('50%置信区间的下限值为：', lower_bound[-1])\n",
    "print('50%置信区间的上限值为：', upper_bound[-1])"
   ]
  }
 ],
 "metadata": {
  "kernelspec": {
   "display_name": "ml-aio",
   "language": "python",
   "name": "python3"
  },
  "language_info": {
   "codemirror_mode": {
    "name": "ipython",
    "version": 3
   },
   "file_extension": ".py",
   "mimetype": "text/x-python",
   "name": "python",
   "nbconvert_exporter": "python",
   "pygments_lexer": "ipython3",
   "version": "3.9.16"
  },
  "orig_nbformat": 4,
  "vscode": {
   "interpreter": {
    "hash": "ec23a97d99db22869c50b892264b6cc1a9cb976e0e30caade73d7ae1a16bff91"
   }
  }
 },
 "nbformat": 4,
 "nbformat_minor": 2
}
