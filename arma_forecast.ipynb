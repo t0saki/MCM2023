{
 "cells": [
  {
   "cell_type": "code",
   "execution_count": 396,
   "metadata": {},
   "outputs": [],
   "source": [
    "import pandas as pd\n",
    "from statsmodels.tsa.arima.model import ARIMA\n",
    "import numpy as np"
   ]
  },
  {
   "cell_type": "code",
   "execution_count": 397,
   "metadata": {},
   "outputs": [],
   "source": [
    "# 从 csv 文件中读取数据\n",
    "data = pd.read_csv('Combined.csv', index_col='Date', parse_dates=True)\n",
    "data = data.dropna()  # 删除缺失值"
   ]
  },
  {
   "cell_type": "code",
   "execution_count": 398,
   "metadata": {},
   "outputs": [
    {
     "name": "stderr",
     "output_type": "stream",
     "text": [
      "/home/tosaki/miniconda3/envs/ml-aio/lib/python3.9/site-packages/statsmodels/tsa/base/tsa_model.py:471: ValueWarning: A date index has been provided, but it has no associated frequency information and so will be ignored when e.g. forecasting.\n",
      "  self._init_dates(dates, freq)\n",
      "/home/tosaki/miniconda3/envs/ml-aio/lib/python3.9/site-packages/statsmodels/tsa/base/tsa_model.py:471: ValueWarning: A date index has been provided, but it has no associated frequency information and so will be ignored when e.g. forecasting.\n",
      "  self._init_dates(dates, freq)\n",
      "/home/tosaki/miniconda3/envs/ml-aio/lib/python3.9/site-packages/statsmodels/tsa/base/tsa_model.py:471: ValueWarning: A date index has been provided, but it has no associated frequency information and so will be ignored when e.g. forecasting.\n",
      "  self._init_dates(dates, freq)\n",
      "/home/tosaki/miniconda3/envs/ml-aio/lib/python3.9/site-packages/statsmodels/tsa/base/tsa_model.py:471: ValueWarning: A date index has been provided, but it has no associated frequency information and so will be ignored when e.g. forecasting.\n",
      "  self._init_dates(dates, freq)\n",
      "/home/tosaki/miniconda3/envs/ml-aio/lib/python3.9/site-packages/statsmodels/tsa/base/tsa_model.py:471: ValueWarning: A date index has been provided, but it has no associated frequency information and so will be ignored when e.g. forecasting.\n",
      "  self._init_dates(dates, freq)\n",
      "/home/tosaki/miniconda3/envs/ml-aio/lib/python3.9/site-packages/statsmodels/tsa/base/tsa_model.py:471: ValueWarning: A date index has been provided, but it has no associated frequency information and so will be ignored when e.g. forecasting.\n",
      "  self._init_dates(dates, freq)\n"
     ]
    }
   ],
   "source": [
    "# 建立 ARMA 模型，使用训练数据训练模型\n",
    "model1 = ARIMA(data[\"Number of reported results\"], order=(2, 1, 2))\n",
    "model1_fit = model1.fit()\n",
    "\n",
    "model2 = ARIMA(data[\"Number in hard mode\"], order=(2, 1, 2))\n",
    "model2_fit = model2.fit()"
   ]
  },
  {
   "cell_type": "code",
   "execution_count": 399,
   "metadata": {},
   "outputs": [],
   "source": [
    "# 指定日期\n",
    "specified_date = pd.to_datetime(\"2022-12-31\")\n",
    "\n",
    "# # 建立 ARMA 模型，使用训练数据训练模型\n",
    "# model1 = ARIMA(data[\"Number of reported results\"], order=(2, 1, 2))\n",
    "# model1_fit = model1.fit()\n",
    "\n",
    "# # 预测指定日期的日活\n",
    "# forecast_specified1 = model1_fit.forecast(steps=(specified_date - data.index[-1]).days)# [0][-1]\n",
    "# # forecast_specified2 = model2_fit.forecast(steps=(specified_date - data.index[-1]).days)# [0][-1]\n",
    "\n",
    "\n",
    "# print(forecast_specified1.shape)\n",
    "\n",
    "# #print the last one\n",
    "# print(f\"Number of reported results: {forecast_specified1}\")"
   ]
  },
  {
   "cell_type": "code",
   "execution_count": 400,
   "metadata": {},
   "outputs": [
    {
     "name": "stderr",
     "output_type": "stream",
     "text": [
      "/home/tosaki/miniconda3/envs/ml-aio/lib/python3.9/site-packages/statsmodels/tsa/base/tsa_model.py:471: ValueWarning: No frequency information was provided, so inferred frequency -1D will be used.\n",
      "  self._init_dates(dates, freq)\n",
      "/home/tosaki/miniconda3/envs/ml-aio/lib/python3.9/site-packages/statsmodels/tsa/base/tsa_model.py:471: ValueWarning: A date index has been provided, but it is not monotonic and so will be ignored when e.g. forecasting.\n",
      "  self._init_dates(dates, freq)\n",
      "/home/tosaki/miniconda3/envs/ml-aio/lib/python3.9/site-packages/statsmodels/tsa/base/tsa_model.py:471: ValueWarning: No frequency information was provided, so inferred frequency -1D will be used.\n",
      "  self._init_dates(dates, freq)\n",
      "/home/tosaki/miniconda3/envs/ml-aio/lib/python3.9/site-packages/statsmodels/tsa/base/tsa_model.py:471: ValueWarning: A date index has been provided, but it is not monotonic and so will be ignored when e.g. forecasting.\n",
      "  self._init_dates(dates, freq)\n",
      "/home/tosaki/miniconda3/envs/ml-aio/lib/python3.9/site-packages/statsmodels/tsa/base/tsa_model.py:471: ValueWarning: No frequency information was provided, so inferred frequency -1D will be used.\n",
      "  self._init_dates(dates, freq)\n",
      "/home/tosaki/miniconda3/envs/ml-aio/lib/python3.9/site-packages/statsmodels/tsa/base/tsa_model.py:471: ValueWarning: A date index has been provided, but it is not monotonic and so will be ignored when e.g. forecasting.\n",
      "  self._init_dates(dates, freq)\n",
      "/home/tosaki/miniconda3/envs/ml-aio/lib/python3.9/site-packages/statsmodels/tsa/base/tsa_model.py:834: ValueWarning: No supported index is available. Prediction results will be given with an integer index beginning at `start`.\n",
      "  return get_prediction_index(\n"
     ]
    }
   ],
   "source": [
    "# Predict from 2022-10-31 to 2022-12-31\n",
    "start_date = pd.to_datetime(\"2022-01-07\")\n",
    "mid_date = pd.to_datetime(\"2022-12-31\")\n",
    "end_date = pd.to_datetime(\"2023-3-1\")\n",
    "\n",
    "# 从 csv 文件中读取数据\n",
    "data = pd.read_csv('Data_V1.3.csv', index_col='Date', parse_dates=True)\n",
    "data = data.dropna()  # 删除缺失值\n",
    "\n",
    "data_train = data[:len(data) - (end_date - mid_date).days]\n",
    "data_test = data[len(data) - (end_date - mid_date).days:]\n",
    "\n",
    "# 建立 ARMA 模型，使用训练数据训练模型\n",
    "model1 = ARIMA(data_train[\"Number of reported results\"], order=(4, 1, 2))\n",
    "model1_fit = model1.fit()\n",
    "\n",
    "\n",
    "# forecast1 = model1_fit.predict(start=start_date, end=mid_date)\n",
    "forecast1_future = model1_fit.forecast(steps=(end_date - mid_date).days)\n",
    "\n",
    "\n",
    "# Save to specified_from300.csv\n",
    "forecast1_future.to_csv('specified_23.csv', index=True)\n",
    "\n",
    "# Save the prediction to csv\n",
    "# forecast1.to_csv('forecast1.csv', index=True)\n",
    "# forecast1_future.to_csv('forecast1_future.csv', index=True)"
   ]
  },
  {
   "cell_type": "code",
   "execution_count": 401,
   "metadata": {},
   "outputs": [
    {
     "name": "stdout",
     "output_type": "stream",
     "text": [
      "50% confidence interval: 11050.9420 to 29878.6628\n",
      "80% confidence interval: 8169.1479 to 32760.4568\n",
      "95% confidence interval: 1637.0815 to 39292.5233\n"
     ]
    }
   ],
   "source": [
    "# remove index of forecast1_future column 'predicted_mean'\n",
    "forecast1_future = forecast1_future.reset_index(drop=True)\n",
    "\n",
    "# Get residuals between forecast1_future and data_test\n",
    "residuals = []\n",
    "for i in range(len(forecast1_future)):\n",
    "    forecast = forecast1_future[i]\n",
    "    actual = data_test['Number of reported results'][i].item()\n",
    "    residuals.append(forecast - actual)\n",
    "\n",
    "# Build normal distribution with mean and std of residuals\n",
    "mean = np.mean(residuals)\n",
    "std = np.std(residuals)\n",
    "std = 9605.98003713989\n",
    "\n",
    "# Get future confidence bound of probability 0.95, 1.96 * std\n",
    "confidence = []\n",
    "upper_bound = []\n",
    "lower_bound = []\n",
    "\n",
    "bound_50 = 0.98 * std\n",
    "bound_80 = 1.28 * std\n",
    "bound_95 = 1.96 * std\n",
    "\n",
    "mean = 20464.802395028866\n",
    "\n",
    "# print bounds\n",
    "print(f\"50% confidence interval: {mean - bound_50:.4f} to {mean + bound_50:.4f}\\n80% confidence interval: {mean - bound_80:.4f} to {mean + bound_80:.4f}\\n95% confidence interval: {mean - bound_95:.4f} to {mean + bound_95:.4f}\")"
   ]
  },
  {
   "cell_type": "code",
   "execution_count": 402,
   "metadata": {},
   "outputs": [
    {
     "name": "stderr",
     "output_type": "stream",
     "text": [
      "/home/tosaki/miniconda3/envs/ml-aio/lib/python3.9/site-packages/statsmodels/tsa/base/tsa_model.py:471: ValueWarning: A date index has been provided, but it has no associated frequency information and so will be ignored when e.g. forecasting.\n",
      "  self._init_dates(dates, freq)\n",
      "/home/tosaki/miniconda3/envs/ml-aio/lib/python3.9/site-packages/statsmodels/tsa/base/tsa_model.py:471: ValueWarning: A date index has been provided, but it has no associated frequency information and so will be ignored when e.g. forecasting.\n",
      "  self._init_dates(dates, freq)\n",
      "/home/tosaki/miniconda3/envs/ml-aio/lib/python3.9/site-packages/statsmodels/tsa/base/tsa_model.py:471: ValueWarning: A date index has been provided, but it has no associated frequency information and so will be ignored when e.g. forecasting.\n",
      "  self._init_dates(dates, freq)\n",
      "/home/tosaki/miniconda3/envs/ml-aio/lib/python3.9/site-packages/statsmodels/tsa/base/tsa_model.py:834: ValueWarning: No supported index is available. Prediction results will be given with an integer index beginning at `start`.\n",
      "  return get_prediction_index(\n"
     ]
    }
   ],
   "source": [
    "# Predict from 2022-10-31 to 2022-12-31\n",
    "start_date = pd.to_datetime(\"2022-01-07\")\n",
    "mid_date = pd.to_datetime(\"2023-2-16\")\n",
    "end_date = pd.to_datetime(\"2023-3-1\")\n",
    "\n",
    "# 从 csv 文件中读取数据\n",
    "data = pd.read_csv('Combined.csv', index_col='Date', parse_dates=True)\n",
    "data = data.dropna()  # 删除缺失值\n",
    "\n",
    "data_train = data[:len(data) - (end_date - mid_date).days]\n",
    "data_test = data[len(data) - (end_date - mid_date).days:]\n",
    "\n",
    "# 建立 ARMA 模型，使用训练数据训练模型\n",
    "model1 = ARIMA(data_train[\"Number of reported results\"], order=(2, 1, 2))\n",
    "model1_fit = model1.fit()\n",
    "\n",
    "\n",
    "# forecast1 = model1_fit.predict(start=start_date, end=mid_date)\n",
    "forecast1_future = model1_fit.forecast(steps=(end_date - mid_date).days)\n",
    "\n",
    "\n",
    "# Save to specified_from300.csv\n",
    "forecast1_future.to_csv('specified_23_more23.csv', index=True)\n",
    "\n",
    "# Save the prediction to csv\n",
    "# forecast1.to_csv('forecast1.csv', index=True)\n",
    "# forecast1_future.to_csv('forecast1_future.csv', index=True)"
   ]
  },
  {
   "cell_type": "code",
   "execution_count": 403,
   "metadata": {},
   "outputs": [
    {
     "name": "stdout",
     "output_type": "stream",
     "text": [
      "50%置信区间的下限值为： 0.0\n",
      "50%置信区间的上限值为： 0.0\n"
     ]
    }
   ],
   "source": [
    "# 计算置信区间\n",
    "lower_bound = np.percentile(simulations, 2.5, axis=0)\n",
    "upper_bound = np.percentile(simulations, 97.5, axis=0)\n",
    "\n",
    "# 打印置信区间\n",
    "print('50%置信区间的下限值为：', lower_bound[-1])\n",
    "print('50%置信区间的上限值为：', upper_bound[-1])"
   ]
  }
 ],
 "metadata": {
  "kernelspec": {
   "display_name": "ml-aio",
   "language": "python",
   "name": "python3"
  },
  "language_info": {
   "codemirror_mode": {
    "name": "ipython",
    "version": 3
   },
   "file_extension": ".py",
   "mimetype": "text/x-python",
   "name": "python",
   "nbconvert_exporter": "python",
   "pygments_lexer": "ipython3",
   "version": "3.9.16"
  },
  "orig_nbformat": 4,
  "vscode": {
   "interpreter": {
    "hash": "ec23a97d99db22869c50b892264b6cc1a9cb976e0e30caade73d7ae1a16bff91"
   }
  }
 },
 "nbformat": 4,
 "nbformat_minor": 2
}
